{
 "cells": [
  {
   "cell_type": "code",
   "execution_count": 1,
   "id": "06d3d22d-b39b-45ee-8dba-e204cbb2cc88",
   "metadata": {},
   "outputs": [],
   "source": [
    "import pandas as pd\n",
    "import numpy as np\n",
    "import matplotlib.pyplot as plt\n",
    "from sklearn.utils.class_weight import compute_class_weight\n",
    "import re\n",
    "import nltk\n",
    "from sklearn.model_selection import train_test_split\n",
    "from sklearn.feature_extraction.text import TfidfVectorizer\n",
    "from sklearn.naive_bayes import MultinomialNB\n",
    "from sklearn.metrics import accuracy_score, confusion_matrix\n",
    "from sklearn.linear_model import LogisticRegression\n",
    "from sklearn.svm import SVC"
   ]
  },
  {
   "cell_type": "code",
   "execution_count": 2,
   "id": "776269ba-bc5a-495f-9b97-6e152015bec3",
   "metadata": {},
   "outputs": [],
   "source": [
    "df = pd.read_csv(\"combined_data.csv\")"
   ]
  },
  {
   "cell_type": "code",
   "execution_count": 3,
   "id": "418e31ce-e096-4b32-bd6f-e4a70a5deae0",
   "metadata": {},
   "outputs": [
    {
     "data": {
      "text/html": [
       "<div>\n",
       "<style scoped>\n",
       "    .dataframe tbody tr th:only-of-type {\n",
       "        vertical-align: middle;\n",
       "    }\n",
       "\n",
       "    .dataframe tbody tr th {\n",
       "        vertical-align: top;\n",
       "    }\n",
       "\n",
       "    .dataframe thead th {\n",
       "        text-align: right;\n",
       "    }\n",
       "</style>\n",
       "<table border=\"1\" class=\"dataframe\">\n",
       "  <thead>\n",
       "    <tr style=\"text-align: right;\">\n",
       "      <th></th>\n",
       "      <th>label</th>\n",
       "      <th>text</th>\n",
       "    </tr>\n",
       "  </thead>\n",
       "  <tbody>\n",
       "    <tr>\n",
       "      <th>0</th>\n",
       "      <td>1</td>\n",
       "      <td>ounce feather bowl hummingbird opec moment ala...</td>\n",
       "    </tr>\n",
       "    <tr>\n",
       "      <th>1</th>\n",
       "      <td>1</td>\n",
       "      <td>wulvob get your medircations online qnb ikud v...</td>\n",
       "    </tr>\n",
       "    <tr>\n",
       "      <th>2</th>\n",
       "      <td>0</td>\n",
       "      <td>computer connection from cnn com wednesday es...</td>\n",
       "    </tr>\n",
       "    <tr>\n",
       "      <th>3</th>\n",
       "      <td>1</td>\n",
       "      <td>university degree obtain a prosperous future m...</td>\n",
       "    </tr>\n",
       "    <tr>\n",
       "      <th>4</th>\n",
       "      <td>0</td>\n",
       "      <td>thanks for all your answers guys i know i shou...</td>\n",
       "    </tr>\n",
       "  </tbody>\n",
       "</table>\n",
       "</div>"
      ],
      "text/plain": [
       "   label                                               text\n",
       "0      1  ounce feather bowl hummingbird opec moment ala...\n",
       "1      1  wulvob get your medircations online qnb ikud v...\n",
       "2      0   computer connection from cnn com wednesday es...\n",
       "3      1  university degree obtain a prosperous future m...\n",
       "4      0  thanks for all your answers guys i know i shou..."
      ]
     },
     "execution_count": 3,
     "metadata": {},
     "output_type": "execute_result"
    }
   ],
   "source": [
    "df.head()"
   ]
  },
  {
   "cell_type": "code",
   "execution_count": 4,
   "id": "1796facf-06f4-4695-9807-742feeddfe73",
   "metadata": {},
   "outputs": [
    {
     "name": "stdout",
     "output_type": "stream",
     "text": [
      "<class 'pandas.core.frame.DataFrame'>\n",
      "RangeIndex: 83448 entries, 0 to 83447\n",
      "Data columns (total 2 columns):\n",
      " #   Column  Non-Null Count  Dtype \n",
      "---  ------  --------------  ----- \n",
      " 0   label   83448 non-null  int64 \n",
      " 1   text    83448 non-null  object\n",
      "dtypes: int64(1), object(1)\n",
      "memory usage: 1.3+ MB\n"
     ]
    }
   ],
   "source": [
    "df.info()"
   ]
  },
  {
   "cell_type": "markdown",
   "id": "1a48e06e-c7a6-4452-8d40-3cf4cdc201a7",
   "metadata": {},
   "source": [
    "**Checking if there is any null values present in the data set**\n",
    "\n"
   ]
  },
  {
   "cell_type": "code",
   "execution_count": 5,
   "id": "3f7235c2-960f-4541-8bda-a552c3eae9ef",
   "metadata": {},
   "outputs": [
    {
     "data": {
      "text/plain": [
       "label    0\n",
       "text     0\n",
       "dtype: int64"
      ]
     },
     "execution_count": 5,
     "metadata": {},
     "output_type": "execute_result"
    }
   ],
   "source": [
    "df.isnull().sum()"
   ]
  },
  {
   "cell_type": "code",
   "execution_count": 6,
   "id": "bd00cc69-b3bb-460c-b1f6-b4df47586f31",
   "metadata": {},
   "outputs": [
    {
     "data": {
      "text/html": [
       "<div>\n",
       "<style scoped>\n",
       "    .dataframe tbody tr th:only-of-type {\n",
       "        vertical-align: middle;\n",
       "    }\n",
       "\n",
       "    .dataframe tbody tr th {\n",
       "        vertical-align: top;\n",
       "    }\n",
       "\n",
       "    .dataframe thead th {\n",
       "        text-align: right;\n",
       "    }\n",
       "</style>\n",
       "<table border=\"1\" class=\"dataframe\">\n",
       "  <thead>\n",
       "    <tr style=\"text-align: right;\">\n",
       "      <th></th>\n",
       "      <th>label</th>\n",
       "    </tr>\n",
       "  </thead>\n",
       "  <tbody>\n",
       "    <tr>\n",
       "      <th>count</th>\n",
       "      <td>83448.000000</td>\n",
       "    </tr>\n",
       "    <tr>\n",
       "      <th>mean</th>\n",
       "      <td>0.526196</td>\n",
       "    </tr>\n",
       "    <tr>\n",
       "      <th>std</th>\n",
       "      <td>0.499316</td>\n",
       "    </tr>\n",
       "    <tr>\n",
       "      <th>min</th>\n",
       "      <td>0.000000</td>\n",
       "    </tr>\n",
       "    <tr>\n",
       "      <th>25%</th>\n",
       "      <td>0.000000</td>\n",
       "    </tr>\n",
       "    <tr>\n",
       "      <th>50%</th>\n",
       "      <td>1.000000</td>\n",
       "    </tr>\n",
       "    <tr>\n",
       "      <th>75%</th>\n",
       "      <td>1.000000</td>\n",
       "    </tr>\n",
       "    <tr>\n",
       "      <th>max</th>\n",
       "      <td>1.000000</td>\n",
       "    </tr>\n",
       "  </tbody>\n",
       "</table>\n",
       "</div>"
      ],
      "text/plain": [
       "              label\n",
       "count  83448.000000\n",
       "mean       0.526196\n",
       "std        0.499316\n",
       "min        0.000000\n",
       "25%        0.000000\n",
       "50%        1.000000\n",
       "75%        1.000000\n",
       "max        1.000000"
      ]
     },
     "execution_count": 6,
     "metadata": {},
     "output_type": "execute_result"
    }
   ],
   "source": [
    "df.describe()"
   ]
  },
  {
   "cell_type": "code",
   "execution_count": 7,
   "id": "c5354479-3bfb-4bf4-9fbb-b4c130a43b22",
   "metadata": {},
   "outputs": [
    {
     "name": "stdout",
     "output_type": "stream",
     "text": [
      "Number of duplicate rows: 0\n"
     ]
    }
   ],
   "source": [
    "print(\"Number of duplicate rows:\", df.duplicated().sum())"
   ]
  },
  {
   "cell_type": "code",
   "execution_count": 8,
   "id": "6bae4523-37c1-45fc-ab9e-804e9260d541",
   "metadata": {},
   "outputs": [
    {
     "data": {
      "text/plain": [
       "label\n",
       "1    43910\n",
       "0    39538\n",
       "Name: count, dtype: int64"
      ]
     },
     "execution_count": 8,
     "metadata": {},
     "output_type": "execute_result"
    }
   ],
   "source": [
    "df[\"label\"].value_counts()"
   ]
  },
  {
   "cell_type": "code",
   "execution_count": 10,
   "id": "63a2dd70-8410-47ef-a003-db46f0e0926e",
   "metadata": {},
   "outputs": [
    {
     "data": {
      "image/png": "[encoded data removed]",
      "text/plain": [
       "<Figure size 640x480 with 1 Axes>"
      ]
     },
     "metadata": {},
     "output_type": "display_data"
    }
   ],
   "source": [
    "df['label'].value_counts().plot(kind='bar')\n",
    "plt.title('Class Distribution')\n",
    "plt.xlabel('Predicted Value')\n",
    "plt.ylabel('Count')\n",
    "plt.show()"
   ]
  },
  {
   "cell_type": "code",
   "execution_count": 11,
   "id": "8e8f2f60-1b31-4ede-8a7b-0006355411ab",
   "metadata": {},
   "outputs": [
    {
     "name": "stdout",
     "output_type": "stream",
     "text": [
      "[1.05528858 0.95021635]\n"
     ]
    }
   ],
   "source": [
    "class_weight = compute_class_weight(class_weight = \"balanced\",\n",
    "                                    classes = np.unique(df['label']),\n",
    "                                    y = df['label'])\n",
    "\n",
    "print(class_weight)"
   ]
  },
  {
   "cell_type": "markdown",
   "id": "94df6f58-67b2-4742-9a49-cf458196226e",
   "metadata": {},
   "source": [
    "**Removing Special characters**"
   ]
  },
  {
   "cell_type": "code",
   "execution_count": 12,
   "id": "1ee84ff0-16cf-493a-a221-437e962f9ee8",
   "metadata": {},
   "outputs": [],
   "source": [
    "df['text'] = df['text'].apply(lambda text : re.sub(r'[^a-zA-Z0-9\\s]',' ',text))"
   ]
  },
  {
   "cell_type": "code",
   "execution_count": 13,
   "id": "6f698f7c-bb16-47c6-a0fb-fc352ce247d5",
   "metadata": {},
   "outputs": [
    {
     "name": "stdout",
     "output_type": "stream",
     "text": [
      "67681    accuweather escapenumber day forecast for beve...\n",
      "61385    dear in christ the time has come for christian...\n",
      "41829    hallway cosponsor pry reimbursable coat clumsy...\n",
      "29172    does size matter  escapenumber of women said t...\n",
      "35274    along zeng wrote hi all is there levene  test ...\n",
      "6695     i m about eighty percent sure chuckwalla anemo...\n",
      "41685    dear reader  \\nwe are writing you on behalf of...\n",
      "13023    hi kedda you ve just received a postcard to vi...\n",
      "62253     escapenumber escapenumber escapenumber home u...\n",
      "38356    on sat may escapenumber escapenumber at escape...\n",
      "81963     dvly update issued  speculative buy  rating h...\n",
      "13977    your credit history does not matter to us if y...\n",
      "71006    start raise some was wonderful exclaimed impos...\n",
      "82435     using tomcat but need to do more need to supp...\n",
      "60468    hello   i am angelique\\nyoungest schoolgirls n...\n",
      "23601    we have the best medications around http www x...\n",
      "3057     make use of your chance   anatrim   the up to ...\n",
      "41177    stanislav nedelchev wrote hi to all hello here...\n",
      "12950    increase your sperm volume   and orgasm length...\n",
      "32650    dear ms   beck  \\ni want to thank you for inte...\n",
      "71936    oem software throw packing case leave cd dvd u...\n",
      "25768    online pharmacy   visit our online store and s...\n",
      "68873    author jelmer date escapenumber escapenumber e...\n",
      "38566    on escapenumber escapenumber escapenumber ravi...\n",
      "35875     mem o escapenumber could be the year when eve...\n",
      "323       new ticket created by james keenan please inc...\n",
      "37094    the hottest alert sea rch for chvccurrent esca...\n",
      "74324        utf   8   q   ou absolutely new m    \\n   ...\n",
      "9242     affordable prices   great service   and a sati...\n",
      "2442     ago it s nice to get out of the classroom it s...\n",
      "70997    show inside gannett foundation station project...\n",
      "61437    author vlendec date escapenumber escapenumber ...\n",
      "33223          cheating\\nstart an affair with a local w...\n",
      "59850    purest darted omitted sainthood lopez\\nscapego...\n",
      "19209    we present you a us licensed online pharmescap...\n",
      "2623     cdumont wrote i know that perl doesn t only fo...\n",
      "19176    steve langasek wrote further it s up to debian...\n",
      "17584    fyi  \\nmm\\n                                   ...\n",
      "81083    up escapenumber in escapenumber days http imge...\n",
      "351      thanks susan  \\nhowever   vince has not receiv...\n",
      "76822    the pressure activities they with the other ki...\n",
      "8842     oem software means no dvd cd no packing case n...\n",
      "74260    dear valued member we just found new weight lo...\n",
      "21035    here are the current issues related to var and...\n",
      "33621    dear fjburkowski plg uwaterloo ca http polliee...\n",
      "5771     hi  \\nwe have a new product that we offer to y...\n",
      "50436    vincent  \\nsorry for a delay in responding to ...\n",
      "69364    author metze date escapenumber escapenumber es...\n",
      "60648    thanks  \\nvince j kaminski   ect\\n01   11   20...\n",
      "32220    see attach http www heoltran net im going with...\n",
      "Name: text, dtype: object\n"
     ]
    }
   ],
   "source": [
    "sample_emails = df['text'].sample(n=50, random_state=42)\n",
    "print(sample_emails)"
   ]
  },
  {
   "cell_type": "code",
   "execution_count": 14,
   "id": "d507dfb1-2687-44b0-a2fc-64a8372909e8",
   "metadata": {},
   "outputs": [],
   "source": [
    "df['text'] = df['text'] = df['text'].apply(lambda x: x.lower())"
   ]
  },
  {
   "cell_type": "code",
   "execution_count": 15,
   "id": "8bd33971-5b34-45f7-b9b7-0c4e5389fd71",
   "metadata": {},
   "outputs": [],
   "source": [
    "X = df['text']\n",
    "y = df['label']\n",
    "X_train,X_test,y_train,y_test = train_test_split(X, y, test_size=0.2, random_state=42, stratify=y)"
   ]
  },
  {
   "cell_type": "code",
   "execution_count": 16,
   "id": "0cc12854-13dd-41bd-9c43-f4dbdbfc398d",
   "metadata": {},
   "outputs": [
    {
     "name": "stdout",
     "output_type": "stream",
     "text": [
      "Training set size: 66758\n",
      "Test set size: 16690\n",
      "Training set class distribution:\n",
      " label\n",
      "1    35128\n",
      "0    31630\n",
      "Name: count, dtype: int64\n",
      "Test set class distribution:\n",
      " label\n",
      "1    8782\n",
      "0    7908\n",
      "Name: count, dtype: int64\n",
      "\n",
      "Split ratio verification:\n",
      "Training set ratio: 0.7999952065957243\n",
      "Testing set ratio: 0.2000047934042757\n"
     ]
    }
   ],
   "source": [
    "print(\"Training set size:\", len(X_train))\n",
    "print(\"Test set size:\", len(X_test))\n",
    "\n",
    "print(\"Training set class distribution:\\n\", y_train.value_counts())\n",
    "print(\"Test set class distribution:\\n\", y_test.value_counts())\n",
    "\n",
    "print(\"\\nSplit ratio verification:\")\n",
    "print(\"Training set ratio:\", len(X_train)/len(X))\n",
    "print(\"Testing set ratio:\", len(X_test)/len(X))"
   ]
  },
  {
   "cell_type": "code",
   "execution_count": 17,
   "id": "899ee7a8-5454-412b-a1a8-2eac65ae5871",
   "metadata": {},
   "outputs": [],
   "source": [
    "vectorizer = TfidfVectorizer()\n",
    "X_train = vectorizer.fit_transform(X_train)\n",
    "\n",
    "X_test = vectorizer.transform(X_test)"
   ]
  },
  {
   "cell_type": "code",
   "execution_count": 18,
   "id": "d6789a1d-b1a6-4d89-9db5-542a87e4b3e5",
   "metadata": {},
   "outputs": [],
   "source": [
    "nb_classifier = MultinomialNB(alpha=0.1)\n",
    "logreg = LogisticRegression(max_iter=10000)\n",
    "svm = SVC(kernel='linear', probability=True)"
   ]
  },
  {
   "cell_type": "code",
   "execution_count": null,
   "id": "ce96cca3-0f79-4740-8d1f-07ed0e58ef17",
   "metadata": {},
   "outputs": [],
   "source": [
    "nb_classifier.fit(X_train, y_train)\n",
    "logreg.fit(X_train, y_train)\n",
    "svm.fit(X_train, y_train)"
   ]
  },
  {
   "cell_type": "code",
   "execution_count": null,
   "id": "7cbb1135-8613-4466-a4bb-cd1167205965",
   "metadata": {},
   "outputs": [],
   "source": [
    "y_pred = nb_classifier.predict(X_test)\n",
    "print(y_pred)"
   ]
  },
  {
   "cell_type": "code",
   "execution_count": null,
   "id": "3089e567-0060-4f81-8c90-64208b629891",
   "metadata": {},
   "outputs": [],
   "source": [
    "accuracy = accuracy_score(y_test, y_pred)\n",
    "print(f\"Baseline Model Accuracy: {accuracy:.3f}\")\n",
    "\n",
    "log_accuracy = logreg.score(X_val, y_val)\n",
    "print(f\"Logistic Regression Accuracy: {log_accuracy:.3f}\")\n",
    "\n",
    "svm = SVC(kernel='linear', probability=True)\n",
    "svm.fit(X_train, y_train)\n",
    "\n",
    "\n",
    "conf_mat = confusion_matrix(y_test, y_pred)\n",
    "conf_mat_normalized = conf_mat / conf_mat.sum(axis=1, keepdims=True)\n",
    "\n",
    "\n",
    "print(\"Confusion Matrix:\")\n",
    "print(conf_mat_normalized)"
   ]
  },
  {
   "cell_type": "code",
   "execution_count": 344,
   "id": "2803ef6c-6e49-41f7-98ab-5a645761ebae",
   "metadata": {},
   "outputs": [],
   "source": [
    "import joblib\n",
    "joblib.dump(nb_classifier, \"spam_classifier.pkl\")\n",
    "joblib.dump(vectorizer, \"vectorizer.pkl\")\n",
    "\n",
    "\n",
    "clf = joblib.load(\"spam_classifier.pkl\")\n",
    "vectorizer = joblib.load(\"vectorizer.pkl\")"
   ]
  },
  {
   "cell_type": "code",
   "execution_count": null,
   "id": "cea76b3d-b67c-4f7d-b430-da6b3a025949",
   "metadata": {},
   "outputs": [],
   "source": [
    "user_text = input(\"Enter a message to check if it's spam or not: \")\n",
    "text_transformed = vectorizer.transform([user_text])\n",
    "prediction = clf.predict(text_transformed)[0]\n",
    "\n",
    "if prediction == 1:\n",
    "    print(\"🔴 Spam Message!\")\n",
    "else:\n",
    "    print(\"✅ Not Spam.\")"
   ]
  },
  {
   "cell_type": "code",
   "execution_count": null,
   "id": "5cd2d113-bb2d-4912-ba6d-5d06c03f6a48",
   "metadata": {},
   "outputs": [],
   "source": []
  }
 ],
 "metadata": {
  "kernelspec": {
   "display_name": "Python 3 (ipykernel)",
   "language": "python",
   "name": "python3"
  },
  "language_info": {
   "codemirror_mode": {
    "name": "ipython",
    "version": 3
   },
   "file_extension": ".py",
   "mimetype": "text/x-python",
   "name": "python",
   "nbconvert_exporter": "python",
   "pygments_lexer": "ipython3",
   "version": "3.12.2"
  }
 },
 "nbformat": 4,
 "nbformat_minor": 5
}
